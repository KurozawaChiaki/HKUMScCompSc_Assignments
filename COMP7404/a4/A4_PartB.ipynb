{
 "cells": [
  {
   "metadata": {},
   "cell_type": "markdown",
   "source": [
    "# Part B: Applied Questions\n",
    "\n",
    "Solve the following questions by implementing solutions in code."
   ],
   "id": "6e567794cab555fa"
  },
  {
   "metadata": {},
   "cell_type": "markdown",
   "source": [
    "## B1\n",
    "Consider the following Perceptron code."
   ],
   "id": "b1ccfd849ba45316"
  },
  {
   "metadata": {
    "ExecuteTime": {
     "end_time": "2024-11-12T10:58:29.709503Z",
     "start_time": "2024-11-12T10:58:29.698941Z"
    }
   },
   "cell_type": "code",
   "source": [
    "import numpy as np\n",
    "\n",
    "class Perceptron(object):\n",
    "    \"\"\"Perceptron classifier.\n",
    "\n",
    "    Parameters\n",
    "    ------------\n",
    "    eta : float\n",
    "        Learning rate (between 0.0 and 1.0)\n",
    "    n_iter : int\n",
    "        Passes over the training dataset.\n",
    "\n",
    "    Attributes\n",
    "    -----------\n",
    "    w_ : 1d-array\n",
    "        Weights after fitting.\n",
    "    errors_ : list\n",
    "        Number of misclassifications in every epoch.\n",
    "\n",
    "    \"\"\"\n",
    "    def __init__(self, eta=0.01, n_iter=10):\n",
    "        self.eta = eta\n",
    "        self.n_iter = n_iter\n",
    "\n",
    "    def fit(self, X, y):\n",
    "        \"\"\"Fit training data.\n",
    "\n",
    "        Parameters\n",
    "        ----------\n",
    "        X : {array-like}, shape = [n_samples, n_features]\n",
    "            Training vectors, where n_samples is the number of samples and\n",
    "            n_features is the number of features.\n",
    "        y : array-like, shape = [n_samples]\n",
    "            Target values.\n",
    "\n",
    "        Returns\n",
    "        -------\n",
    "        self : object\n",
    "\n",
    "        \"\"\"\n",
    "        self.w_ = np.zeros(1 + X.shape[1])\n",
    "        self.errors_ = []\n",
    "\n",
    "        for _ in range(self.n_iter):\n",
    "            errors = 0\n",
    "            for xi, target in zip(X, y):\n",
    "                update = self.eta * (target - self.predict(xi))\n",
    "                self.w_[1:] += update * xi\n",
    "                self.w_[0] += update\n",
    "                errors += int(update != 0.0)\n",
    "            self.errors_.append(errors)\n",
    "        return self\n",
    "\n",
    "    def net_input(self, X):\n",
    "        \"\"\"Calculate net input\"\"\"\n",
    "        return np.dot(X, self.w_[1:]) + self.w_[0]\n",
    "\n",
    "    def predict(self, X):\n",
    "        \"\"\"Return class label after unit step\"\"\"\n",
    "        return np.where(self.net_input(X) >= 0.0, 1, -1)"
   ],
   "id": "862c3483881cca3d",
   "outputs": [],
   "execution_count": 22
  },
  {
   "metadata": {
    "ExecuteTime": {
     "end_time": "2024-11-12T10:58:36.489788Z",
     "start_time": "2024-11-12T10:58:34.191858Z"
    }
   },
   "cell_type": "code",
   "source": [
    "import pandas as pd\n",
    "\n",
    "data_src = 'https://archive.ics.uci.edu/ml/machine-learning-databases/iris/iris.data'\n",
    "\n",
    "df = pd.read_csv(data_src, header=None)\n",
    "\n",
    "df.tail()"
   ],
   "id": "ec000bfae13d1a66",
   "outputs": [
    {
     "data": {
      "text/plain": [
       "       0    1    2    3               4\n",
       "145  6.7  3.0  5.2  2.3  Iris-virginica\n",
       "146  6.3  2.5  5.0  1.9  Iris-virginica\n",
       "147  6.5  3.0  5.2  2.0  Iris-virginica\n",
       "148  6.2  3.4  5.4  2.3  Iris-virginica\n",
       "149  5.9  3.0  5.1  1.8  Iris-virginica"
      ],
      "text/html": [
       "<div>\n",
       "<style scoped>\n",
       "    .dataframe tbody tr th:only-of-type {\n",
       "        vertical-align: middle;\n",
       "    }\n",
       "\n",
       "    .dataframe tbody tr th {\n",
       "        vertical-align: top;\n",
       "    }\n",
       "\n",
       "    .dataframe thead th {\n",
       "        text-align: right;\n",
       "    }\n",
       "</style>\n",
       "<table border=\"1\" class=\"dataframe\">\n",
       "  <thead>\n",
       "    <tr style=\"text-align: right;\">\n",
       "      <th></th>\n",
       "      <th>0</th>\n",
       "      <th>1</th>\n",
       "      <th>2</th>\n",
       "      <th>3</th>\n",
       "      <th>4</th>\n",
       "    </tr>\n",
       "  </thead>\n",
       "  <tbody>\n",
       "    <tr>\n",
       "      <th>145</th>\n",
       "      <td>6.7</td>\n",
       "      <td>3.0</td>\n",
       "      <td>5.2</td>\n",
       "      <td>2.3</td>\n",
       "      <td>Iris-virginica</td>\n",
       "    </tr>\n",
       "    <tr>\n",
       "      <th>146</th>\n",
       "      <td>6.3</td>\n",
       "      <td>2.5</td>\n",
       "      <td>5.0</td>\n",
       "      <td>1.9</td>\n",
       "      <td>Iris-virginica</td>\n",
       "    </tr>\n",
       "    <tr>\n",
       "      <th>147</th>\n",
       "      <td>6.5</td>\n",
       "      <td>3.0</td>\n",
       "      <td>5.2</td>\n",
       "      <td>2.0</td>\n",
       "      <td>Iris-virginica</td>\n",
       "    </tr>\n",
       "    <tr>\n",
       "      <th>148</th>\n",
       "      <td>6.2</td>\n",
       "      <td>3.4</td>\n",
       "      <td>5.4</td>\n",
       "      <td>2.3</td>\n",
       "      <td>Iris-virginica</td>\n",
       "    </tr>\n",
       "    <tr>\n",
       "      <th>149</th>\n",
       "      <td>5.9</td>\n",
       "      <td>3.0</td>\n",
       "      <td>5.1</td>\n",
       "      <td>1.8</td>\n",
       "      <td>Iris-virginica</td>\n",
       "    </tr>\n",
       "  </tbody>\n",
       "</table>\n",
       "</div>"
      ]
     },
     "execution_count": 23,
     "metadata": {},
     "output_type": "execute_result"
    }
   ],
   "execution_count": 23
  },
  {
   "metadata": {
    "ExecuteTime": {
     "end_time": "2024-11-12T10:58:42.273156Z",
     "start_time": "2024-11-12T10:58:40.291637Z"
    }
   },
   "cell_type": "code",
   "source": [
    "%matplotlib inline\n",
    "import matplotlib.pyplot as plt\n",
    "%config InlineBackend.figure_format='retina'\n",
    "import numpy as np\n",
    "\n",
    "# select setosa and versicolor\n",
    "y = df.iloc[0:100, 4].values\n",
    "y = np.where(y == 'Iris-setosa', -1, 1)\n",
    "\n",
    "# extract sepal length and petal length\n",
    "X = df.iloc[0:100, [0, 2]].values\n",
    "\n",
    "# plot data\n",
    "plt.scatter(X[:50, 0], X[:50, 1],\n",
    "            color='red', marker='o', label='setosa')\n",
    "plt.scatter(X[50:100, 0], X[50:100, 1],\n",
    "            color='blue', marker='x', label='versicolor')\n",
    "\n",
    "plt.xlabel('sepal length [cm]')\n",
    "plt.ylabel('petal length [cm]')\n",
    "plt.legend(loc='upper left')\n",
    "\n",
    "plt.tight_layout()\n",
    "plt.show()"
   ],
   "id": "e2ef46758cd1b32",
   "outputs": [
    {
     "data": {
      "text/plain": [
       "<Figure size 640x480 with 1 Axes>"
      ],
      "image/png": "[encoded data removed]"
     },
     "metadata": {
      "image/png": {
       "width": 629,
       "height": 470
      }
     },
     "output_type": "display_data"
    }
   ],
   "execution_count": 24
  },
  {
   "metadata": {
    "ExecuteTime": {
     "end_time": "2024-11-12T10:58:46.204641Z",
     "start_time": "2024-11-12T10:58:46.174644Z"
    }
   },
   "cell_type": "code",
   "source": [
    "ppn = Perceptron(eta=0.1, n_iter=10)\n",
    "ppn = ppn.fit(X, y)"
   ],
   "id": "c3e68deafdeb3104",
   "outputs": [],
   "execution_count": 25
  },
  {
   "metadata": {
    "ExecuteTime": {
     "end_time": "2024-11-12T10:58:50.234962Z",
     "start_time": "2024-11-12T10:58:50.221179Z"
    }
   },
   "cell_type": "code",
   "source": [
    "from matplotlib.colors import ListedColormap\n",
    "def plot_decision_regions(X, y, classifier, resolution=0.01):\n",
    "    markers = ('s', 'x', 'o', '^', 'v')\n",
    "    colors = ('red', 'blue', 'lightgreen', 'gray', 'cyan')\n",
    "    cmap = ListedColormap(colors[:len(np.unique(y))])\n",
    "    x1_min, x1_max = X[:, 0].min() - 1, X[:, 0].max() + 1\n",
    "    x2_min, x2_max = X[:, 1].min() - 1, X[:, 1].max() + 1\n",
    "    xx1, xx2 = np.meshgrid(np.arange(x1_min, x1_max, resolution),\n",
    "                           np.arange(x2_min, x2_max, resolution))\n",
    "    Z = classifier.predict(np.array([xx1.ravel(), xx2.ravel()]).T)\n",
    "    Z = Z.reshape(xx1.shape)\n",
    "    plt.contourf(xx1, xx2, Z, alpha=0.3, cmap=cmap)\n",
    "    plt.xlim(xx1.min(), xx1.max())\n",
    "    plt.ylim(xx2.min(), xx2.max())\n",
    "    for idx, cl in enumerate(np.unique(y)):\n",
    "        plt.scatter(x=X[y == cl, 0], \n",
    "                    y=X[y == cl, 1],\n",
    "                    alpha=0.8, \n",
    "                    c=colors[idx],\n",
    "                    marker=markers[idx], \n",
    "                    label=cl, \n",
    "                    edgecolor='black')"
   ],
   "id": "c1b5c2483e845cef",
   "outputs": [],
   "execution_count": 26
  },
  {
   "metadata": {},
   "cell_type": "markdown",
   "source": [
    "As shown in function plot_decision_regions, the decision regions can be visualized by dense sampling via meshgrid. However, if the grid resolution is not enough, as artificially set below, the boundary will appear inaccurate.\n",
    "\n",
    "Implement function plot_decision_boundary below to analytically compute and plot the decision boundary."
   ],
   "id": "71eeb55009e589b7"
  },
  {
   "metadata": {
    "ExecuteTime": {
     "end_time": "2024-11-12T10:58:54.220730Z",
     "start_time": "2024-11-12T10:58:54.210016Z"
    }
   },
   "cell_type": "code",
   "source": [
    "def plot_decision_boundary(X, y, classifier):    \n",
    "    \n",
    "    # replace the two lines below with your code\n",
    "    x1_interval = [X[:, 0].min() - 1, X[:, 0].max() + 1]\n",
    "    x2_slope = -classifier.w_[1] / classifier.w_[2] if classifier.w_[2] != 0 else 0\n",
    "    x2_intercept = -classifier.w_[0] / classifier.w_[2]\n",
    "    x2_interval = [x2_slope * x + x2_intercept for x in x1_interval]\n",
    "    \n",
    "    plt.plot(x1_interval, x2_interval, color='green', linewidth=4, label='boundary')"
   ],
   "id": "43918def09c757f2",
   "outputs": [],
   "execution_count": 27
  },
  {
   "metadata": {
    "ExecuteTime": {
     "end_time": "2024-11-12T10:58:58.068480Z",
     "start_time": "2024-11-12T10:58:57.815924Z"
    }
   },
   "cell_type": "code",
   "source": [
    "low_res = 0.1 # intentional for this exercise\n",
    "plot_decision_regions(X, y, classifier=ppn, resolution=low_res)\n",
    "plot_decision_boundary(X, y, classifier=ppn)\n",
    "plt.xlabel('sepal length [cm]')\n",
    "plt.ylabel('petal length [cm]')\n",
    "plt.legend(loc='upper left')\n",
    "plt.tight_layout()\n",
    "plt.show()"
   ],
   "id": "a47e2ec609ee2ac",
   "outputs": [
    {
     "name": "stderr",
     "output_type": "stream",
     "text": [
      "C:\\Users\\h1tor\\AppData\\Local\\Temp\\ipykernel_23896\\907166547.py:16: UserWarning: You passed a edgecolor/edgecolors ('black') for an unfilled marker ('x').  Matplotlib is ignoring the edgecolor in favor of the facecolor.  This behavior may change in the future.\n",
      "  plt.scatter(x=X[y == cl, 0],\n"
     ]
    },
    {
     "data": {
      "text/plain": [
       "<Figure size 640x480 with 1 Axes>"
      ],
      "image/png": "[encoded data removed]"
     },
     "metadata": {
      "image/png": {
       "width": 629,
       "height": 470
      }
     },
     "output_type": "display_data"
    }
   ],
   "execution_count": 28
  },
  {
   "metadata": {},
   "cell_type": "markdown",
   "source": [
    "## B2\n",
    "\n",
    "In class we applied different scikit-learn classifers for the Iris data set.\n",
    "\n",
    "In this question, we will apply the same set of classifiers over a different data set: hand-written digits.\n",
    "Please write down the code for different classifiers, choose their hyper-parameters, and compare their performance via the accuracy score as in the Iris dataset.\n",
    "Which classifier(s) perform(s) the best and worst, and why?\n",
    "\n",
    "The classifiers include:\n",
    "* perceptron\n",
    "* logistic regression\n",
    "* SVM\n",
    "* decision tree\n",
    "* random forest\n",
    "* KNN\n",
    "\n",
    "The dataset is available as part of scikit learn, as follows."
   ],
   "id": "b346935b9ead1010"
  },
  {
   "metadata": {
    "ExecuteTime": {
     "end_time": "2024-11-12T13:01:24.324895Z",
     "start_time": "2024-11-12T13:01:24.279050Z"
    }
   },
   "cell_type": "code",
   "source": [
    "from sklearn.datasets import load_digits\n",
    "digits = load_digits()\n",
    "\n",
    "X = digits.data # training data\n",
    "y = digits.target # training label\n",
    "\n",
    "print(X.shape)\n",
    "print(y.shape)\n",
    "print(np.unique(y))"
   ],
   "id": "c06f9f4a1f18c5d9",
   "outputs": [
    {
     "name": "stdout",
     "output_type": "stream",
     "text": [
      "(1797, 64)\n",
      "(1797,)\n",
      "[0 1 2 3 4 5 6 7 8 9]\n"
     ]
    }
   ],
   "execution_count": 48
  },
  {
   "metadata": {
    "ExecuteTime": {
     "end_time": "2024-11-12T13:01:29.642858Z",
     "start_time": "2024-11-12T13:01:27.924208Z"
    }
   },
   "cell_type": "code",
   "source": [
    "import matplotlib.pyplot as plt\n",
    "import pylab as pl\n",
    "import matplotlib as mpl\n",
    "mpl.rcParams['figure.dpi'] = 150\n",
    "num_rows = 4\n",
    "num_cols = 5\n",
    "fig, ax = plt.subplots(nrows=num_rows, ncols=num_cols, sharex=True, sharey=True)\n",
    "ax = ax.flatten()\n",
    "for index in range(num_rows*num_cols):\n",
    "    img = digits.images[index]\n",
    "    label = digits.target[index]\n",
    "    ax[index].imshow(img, cmap='Greys', interpolation='nearest')\n",
    "    ax[index].set_title('digit ' + str(label))\n",
    "ax[0].set_xticks([])\n",
    "ax[0].set_yticks([])\n",
    "plt.tight_layout()\n",
    "plt.show()"
   ],
   "id": "a1f9e1948555fa01",
   "outputs": [
    {
     "data": {
      "text/plain": [
       "<Figure size 960x720 with 20 Axes>"
      ],
      "image/png": "[encoded data removed]"
     },
     "metadata": {},
     "output_type": "display_data"
    }
   ],
   "execution_count": 49
  },
  {
   "metadata": {},
   "cell_type": "markdown",
   "source": [
    "### Date Preprocessing\n",
    "\n",
    "Hint: Divide training and test data set and apply other techinques we have learned if needed."
   ],
   "id": "976177dc68771c11"
  },
  {
   "metadata": {
    "ExecuteTime": {
     "end_time": "2024-11-12T13:01:34.081547Z",
     "start_time": "2024-11-12T13:01:34.049829Z"
    }
   },
   "cell_type": "code",
   "source": [
    "from sklearn.model_selection import train_test_split\n",
    "from sklearn.preprocessing import StandardScaler\n",
    "\n",
    "x_train, x_test, y_train, y_test = train_test_split(X, y, test_size = 0.2, random_state = 1, stratify = y)\n",
    "\n",
    "sc = StandardScaler()\n",
    "sc.fit(x_train)\n",
    "x_train_std = sc.transform(x_train)\n",
    "x_test_std = sc.transform(x_test)\n",
    "\n",
    "print(x_train_std.shape)\n",
    "print(x_test_std.shape)"
   ],
   "id": "6d60a17c8b0bf197",
   "outputs": [
    {
     "name": "stdout",
     "output_type": "stream",
     "text": [
      "(1437, 64)\n",
      "(360, 64)\n"
     ]
    }
   ],
   "execution_count": 50
  },
  {
   "metadata": {},
   "cell_type": "markdown",
   "source": "### Classifier #1 Perceptron",
   "id": "6aae8835543d2718"
  },
  {
   "metadata": {
    "ExecuteTime": {
     "end_time": "2024-11-12T13:01:39.189446Z",
     "start_time": "2024-11-12T13:01:39.087591Z"
    }
   },
   "cell_type": "code",
   "source": [
    "from sklearn.linear_model import Perceptron\n",
    "from sklearn.metrics import accuracy_score\n",
    "\n",
    "ppn = Perceptron(eta0 = 0.1, random_state = 1, verbose = 0)\n",
    "ppn.fit(x_train_std, y_train)\n",
    "y_pred = ppn.predict(x_train_std)\n",
    "\n",
    "# print(y_pred)\n",
    "# print(y_train)\n",
    "# print('Misclassified training samples:',(y_train != y_pred).sum())\n",
    "\n",
    "y_test_pred = ppn.predict(x_test_std)\n",
    "print('Misclassified samples:', (y_test_pred != y_test).sum())\n",
    "print(\"Accuracy: %.3f\" % accuracy_score(y_test, y_test_pred))"
   ],
   "id": "56358a01b61a35e7",
   "outputs": [
    {
     "name": "stdout",
     "output_type": "stream",
     "text": [
      "Misclassified samples: 20\n",
      "Accuracy: 0.944\n"
     ]
    }
   ],
   "execution_count": 51
  },
  {
   "metadata": {},
   "cell_type": "markdown",
   "source": "### Classifier #2 Logistic Regression",
   "id": "4f51ca663ff7126a"
  },
  {
   "metadata": {
    "ExecuteTime": {
     "end_time": "2024-11-12T13:01:56.188455Z",
     "start_time": "2024-11-12T13:01:45.298583Z"
    }
   },
   "cell_type": "code",
   "source": [
    "from sklearn.linear_model import LogisticRegression\n",
    "\n",
    "lr = LogisticRegression(C = 50, solver = 'saga', max_iter = 5000, random_state = 1)\n",
    "lr.fit(x_train_std, y_train)\n",
    "lr_y_pred_train = lr.predict(x_train_std)\n",
    "\n",
    "# print(lr_y_pred_train)\n",
    "# print(y_train)\n",
    "# print('Misclassified training samples:',(y_train != lr_y_pred_train).sum())\n",
    "\n",
    "lr_y_pred_test = lr.predict(x_test_std)\n",
    "print('Misclassified samples:', (lr_y_pred_test != y_test).sum())\n",
    "print(\"Accuracy: %.3f\" % accuracy_score(y_test, lr_y_pred_test))"
   ],
   "id": "9069db4e39a1b5fa",
   "outputs": [
    {
     "name": "stdout",
     "output_type": "stream",
     "text": [
      "Misclassified samples: 15\n",
      "Accuracy: 0.958\n"
     ]
    }
   ],
   "execution_count": 52
  },
  {
   "metadata": {},
   "cell_type": "markdown",
   "source": "### Classifier #3 SVM",
   "id": "1234102c018dd2c2"
  },
  {
   "metadata": {
    "ExecuteTime": {
     "end_time": "2024-11-12T13:02:15.014751Z",
     "start_time": "2024-11-12T13:02:14.688166Z"
    }
   },
   "cell_type": "code",
   "source": [
    "from sklearn.svm import SVC\n",
    "\n",
    "svc = SVC(kernel = \"rbf\", C = 1, random_state = 1)\n",
    "svc.fit(x_train_std, y_train)\n",
    "svc_y_pred_train = svc.predict(x_train_std)\n",
    "\n",
    "print(svc_y_pred_train)\n",
    "print(y_train)\n",
    "print(\"Misclassified training samples: \", (y_train != lr_y_pred_train).sum())\n",
    "\n",
    "svc_y_pred_test = svc.predict(x_test_std)\n",
    "print(\"Misclassified samples: \", (svc_y_pred_test != y_test).sum())\n",
    "print(\"Accuracy: %.3f\" % accuracy_score(y_test, svc_y_pred_test))"
   ],
   "id": "1246628788e1c16e",
   "outputs": [
    {
     "name": "stdout",
     "output_type": "stream",
     "text": [
      "[3 1 3 ... 8 5 3]\n",
      "[3 1 3 ... 8 5 3]\n",
      "Misclassified training samples:  0\n",
      "Misclassified samples:  3\n",
      "Accuracy: 0.992\n"
     ]
    }
   ],
   "execution_count": 53
  },
  {
   "metadata": {},
   "cell_type": "markdown",
   "source": "### Classifier #4 Decision Tree",
   "id": "dd304f71d312ddd1"
  },
  {
   "metadata": {
    "ExecuteTime": {
     "end_time": "2024-11-12T13:03:45.582267Z",
     "start_time": "2024-11-12T13:03:45.550576Z"
    }
   },
   "cell_type": "code",
   "source": [
    "from sklearn.tree import DecisionTreeClassifier\n",
    "\n",
    "dt = DecisionTreeClassifier(random_state = 1, criterion = \"log_loss\", max_depth = 15)\n",
    "dt.fit(x_train_std, y_train)\n",
    "dt_y_pred_train = dt.predict(x_train_std)\n",
    "print(dt_y_pred_train)\n",
    "print(y_train)\n",
    "print(\"Misclassified training samples: \", (y_train != dt_y_pred_train).sum())\n",
    "\n",
    "dt_y_pred_test = dt.predict(x_test_std)\n",
    "print(\"Misclassified samples: \", (dt_y_pred_test != y_test).sum())\n",
    "print(\"Accuracy: %.3f\" % accuracy_score(y_test, dt_y_pred_test))"
   ],
   "id": "a1e1c0a4f2703d86",
   "outputs": [
    {
     "name": "stdout",
     "output_type": "stream",
     "text": [
      "[3 1 3 ... 8 5 3]\n",
      "[3 1 3 ... 8 5 3]\n",
      "Misclassified training samples:  0\n",
      "Misclassified samples:  45\n",
      "Accuracy: 0.875\n"
     ]
    }
   ],
   "execution_count": 62
  },
  {
   "metadata": {},
   "cell_type": "markdown",
   "source": "### Classifer #5 Random Forest",
   "id": "5a2df8965476cd10"
  },
  {
   "metadata": {
    "ExecuteTime": {
     "end_time": "2024-11-12T13:04:02.873333Z",
     "start_time": "2024-11-12T13:04:02.439450Z"
    }
   },
   "cell_type": "code",
   "source": [
    "from sklearn.ensemble import RandomForestClassifier\n",
    "\n",
    "rf = RandomForestClassifier(random_state = 1, criterion = \"log_loss\", max_depth = 30)\n",
    "rf.fit(x_train_std, y_train)\n",
    "rf_y_pred_train = rf.predict(x_train_std)\n",
    "print(rf_y_pred_train)\n",
    "print(y_train)\n",
    "print(\"Misclassified training samples: \", (y_train != rf_y_pred_train).sum())\n",
    "\n",
    "rf_y_pred_test = rf.predict(x_test_std)\n",
    "print(\"Misclassified samples: \", (rf_y_pred_test != y_test).sum())\n",
    "print(\"Accuracy: %.3f\" % accuracy_score(y_test, rf_y_pred_test))"
   ],
   "id": "e0399fdcaa700e44",
   "outputs": [
    {
     "name": "stdout",
     "output_type": "stream",
     "text": [
      "[3 1 3 ... 8 5 3]\n",
      "[3 1 3 ... 8 5 3]\n",
      "Misclassified training samples:  0\n",
      "Misclassified samples:  12\n",
      "Accuracy: 0.967\n"
     ]
    }
   ],
   "execution_count": 63
  },
  {
   "metadata": {},
   "cell_type": "markdown",
   "source": "### Classifier #6 KNN",
   "id": "8200c3a5bf54fe6c"
  },
  {
   "metadata": {
    "ExecuteTime": {
     "end_time": "2024-11-12T13:04:11.098791Z",
     "start_time": "2024-11-12T13:04:10.866429Z"
    }
   },
   "cell_type": "code",
   "source": [
    "from sklearn.neighbors import KNeighborsClassifier\n",
    "\n",
    "knn = KNeighborsClassifier(n_neighbors = 5, metric = 'minkowski', p = 2)\n",
    "knn.fit(x_train_std, y_train)\n",
    "knn_y_pred_train = knn.predict(x_train_std)\n",
    "print(knn_y_pred_train)\n",
    "print(y_train)\n",
    "print(\"Misclassified training samples: \", (y_train != knn_y_pred_train).sum())\n",
    "\n",
    "knn_y_pred_test = knn.predict(x_test_std)\n",
    "print(\"Misclassified samples: \", (knn_y_pred_test != y_test).sum())\n",
    "print(\"Accuracy: %.3f\" % accuracy_score(y_test, knn_y_pred_test))"
   ],
   "id": "85a30ece3a3f0c05",
   "outputs": [
    {
     "name": "stdout",
     "output_type": "stream",
     "text": [
      "[3 1 3 ... 8 5 3]\n",
      "[3 1 3 ... 8 5 3]\n",
      "Misclassified training samples:  20\n",
      "Misclassified samples:  5\n",
      "Accuracy: 0.986\n"
     ]
    },
    {
     "name": "stderr",
     "output_type": "stream",
     "text": [
      "C:\\Users\\h1tor\\anaconda3\\envs\\comp7404_a4\\lib\\site-packages\\joblib\\externals\\loky\\backend\\context.py:136: UserWarning: Could not find the number of physical cores for the following reason:\n",
      "[WinError 2] 系统找不到指定的文件。\n",
      "Returning the number of logical cores instead. You can silence this warning by setting LOKY_MAX_CPU_COUNT to the number of cores you want to use.\n",
      "  warnings.warn(\n",
      "  File \"C:\\Users\\h1tor\\anaconda3\\envs\\comp7404_a4\\lib\\site-packages\\joblib\\externals\\loky\\backend\\context.py\", line 257, in _count_physical_cores\n",
      "    cpu_info = subprocess.run(\n",
      "  File \"C:\\Users\\h1tor\\anaconda3\\envs\\comp7404_a4\\lib\\subprocess.py\", line 505, in run\n",
      "    with Popen(*popenargs, **kwargs) as process:\n",
      "  File \"C:\\Users\\h1tor\\anaconda3\\envs\\comp7404_a4\\lib\\subprocess.py\", line 951, in __init__\n",
      "    self._execute_child(args, executable, preexec_fn, close_fds,\n",
      "  File \"C:\\Users\\h1tor\\anaconda3\\envs\\comp7404_a4\\lib\\subprocess.py\", line 1436, in _execute_child\n",
      "    hp, ht, pid, tid = _winapi.CreateProcess(executable, args,\n"
     ]
    }
   ],
   "execution_count": 64
  },
  {
   "metadata": {},
   "cell_type": "markdown",
   "source": [
    "## B3\n",
    "Build a spam classifier:\n",
    "\n",
    "*   Download examples of spam and ham from Apache SpamAssassin’s public datasets.\n",
    "*   Unzip the datasets and familiarize yourself with the data format.\n",
    "*   Split the datasets into a training set and a test set.\n",
    "*   Write a data preparation pipeline to convert each email into a feature vector. Your preparation pipeline should transform an email into a (sparse) vector that indicates the presence or absence of each possible word. For example, if all emails only ever contain four words, “Hello,” “how,” “are,” “you,” then the email “Hello you Hello Hello you” would be converted into a vector [1, 0, 0, 1] (meaning [“Hello” is present, “how” is absent, “are” is absent, “you” is present]), or [3, 0, 0, 2] if you prefer to count the number of occurrences of each word.\n",
    "*   You may want to add hyperparameters to your preparation pipeline to control whether or not to strip off email headers, convert each email to lowercase, remove punctuation, replace all URLs with “URL,” replace all numbers with “NUMBER,” or even perform stemming (i.e., trim off word endings; there are Python libraries available to do this).\n",
    "*   Finally, try out several classifiers and see if you can build a great spam classifier, with both high recall and high precision."
   ],
   "id": "5067a8af8d8ddeea"
  },
  {
   "metadata": {
    "ExecuteTime": {
     "end_time": "2024-11-12T12:39:56.976560Z",
     "start_time": "2024-11-12T12:39:53.001957Z"
    }
   },
   "cell_type": "code",
   "source": [
    "import os\n",
    "import tarfile\n",
    "from six.moves import urllib\n",
    "\n",
    "DOWNLOAD_URL = \"https://spamassassin.apache.org/old/publiccorpus/\"\n",
    "HAM_URL = DOWNLOAD_URL + \"20030228_easy_ham.tar.bz2\"\n",
    "SPAM_URL = DOWNLOAD_URL + \"20030228_spam.tar.bz2\"\n",
    "DATA_PATH = os.path.join(\"datasets\", \"tar\")\n",
    "\n",
    "def fetch_spam_data(data_dir = DATA_PATH):\n",
    "    \"\"\"\n",
    "    Get the dataset from the server.\n",
    "    \n",
    "    :param data_dir: the local path of downloaded dataset \n",
    "    \"\"\"\n",
    "    \n",
    "    # Check if the path exists. If not, create the path.\n",
    "    if not os.path.exists(data_dir):\n",
    "        os.makedirs(data_dir)\n",
    "        \n",
    "    # Download and extract the file.\n",
    "    for filename, url in ((\"ham.tar.bz2\", HAM_URL), (\"spam.tar.bz2\", SPAM_URL)):\n",
    "        path = os.path.join(data_dir, filename)\n",
    "        if not os.path.exists(path):\n",
    "            urllib.request.urlretrieve(url, path)\n",
    "        tar_bz2_file = tarfile.open(path)\n",
    "        tar_bz2_file.extractall(data_dir)\n",
    "        tar_bz2_file.close()\n",
    "        \n",
    "fetch_spam_data()"
   ],
   "id": "4756d809348c9876",
   "outputs": [],
   "execution_count": 31
  },
  {
   "metadata": {
    "ExecuteTime": {
     "end_time": "2024-11-12T12:42:31.057388Z",
     "start_time": "2024-11-12T12:42:31.047748Z"
    }
   },
   "cell_type": "code",
   "source": [
    "HAM_DIR = os.path.join(DATA_PATH, \"easy_ham\")\n",
    "SPAM_DIR = os.path.join(DATA_PATH, \"spam\")\n",
    "ham_filenames = [name for name in sorted(os.listdir(HAM_DIR)) if len(name) > 20]\n",
    "spam_filenames = [name for name in sorted(os.listdir(SPAM_DIR)) if len(name) > 20]"
   ],
   "id": "10d0ce0ca205121f",
   "outputs": [],
   "execution_count": 32
  },
  {
   "metadata": {
    "ExecuteTime": {
     "end_time": "2024-11-12T12:47:04.353947Z",
     "start_time": "2024-11-12T12:47:01.502171Z"
    }
   },
   "cell_type": "code",
   "source": [
    "import email\n",
    "import email.policy\n",
    "\n",
    "def load_email(is_spam, filename, file_path = DATA_PATH):\n",
    "    \"\"\"\n",
    "    Load the content of an email.\n",
    "    \n",
    "    :param is_spam: whether the email is a spam email\n",
    "    :param filename: name of the file\n",
    "    :param file_path: data's path\n",
    "    :return: the content of the email\n",
    "    \"\"\"\n",
    "    directory = \"spam\" if is_spam else \"easy_ham\"\n",
    "    \n",
    "    with open(os.path.join(file_path, directory, filename), \"rb\") as f:\n",
    "        return email.parser.BytesParser(policy = email.policy.default).parse(f)\n",
    "    \n",
    "ham_emails = [load_email(False, filename = name) for name in ham_filenames]\n",
    "spam_emails = [load_email(True, filename = name) for name in spam_filenames]"
   ],
   "id": "7ac982038ec22a38",
   "outputs": [],
   "execution_count": 38
  },
  {
   "metadata": {
    "ExecuteTime": {
     "end_time": "2024-11-12T12:47:21.072476Z",
     "start_time": "2024-11-12T12:47:21.054456Z"
    }
   },
   "cell_type": "code",
   "source": [
    "from sklearn.model_selection import train_test_split\n",
    "import numpy as np\n",
    "\n",
    "# Split the train and test set\n",
    "x = np.array(ham_emails + spam_emails, dtype = object)\n",
    "y = np.array([0] * len(ham_emails) + [1] * len(spam_emails))\n",
    "x_train, x_test, y_train, y_test = train_test_split(x, y, test_size = 0.2, random_state = 1)"
   ],
   "id": "d66f65f1e8eda0e",
   "outputs": [
    {
     "name": "stdout",
     "output_type": "stream",
     "text": [
      "(2400,) (600,) (2400,) (600,)\n"
     ]
    }
   ],
   "execution_count": 40
  },
  {
   "metadata": {
    "ExecuteTime": {
     "end_time": "2024-11-12T12:47:26.709925Z",
     "start_time": "2024-11-12T12:47:26.684761Z"
    }
   },
   "cell_type": "code",
   "source": [
    "import re\n",
    "from html import unescape\n",
    "\n",
    "def html_to_plain_text(html):\n",
    "    \"\"\"\n",
    "    Transform the HTML content to plain text.\n",
    "    \n",
    "    :param html: HTML content\n",
    "    :return: plain text corresponding to the HTML content\n",
    "    \"\"\"\n",
    "    text = re.sub(r'<head.*?>.*?</head>','',html,flags = re.M | re.S | re.I)\n",
    "    text = re.sub(r'<a\\s.*?>','HYPERLINK',text,flags = re.M | re.S | re.I)\n",
    "    text = re.sub(r'<.*?>','',text,flags = re.M | re.S)\n",
    "    text = re.sub(r'(\\s*\\n)+','\\n',text,flags = re.M | re.S)\n",
    "    \n",
    "    return unescape(text)\n",
    "\n",
    "def email_to_text(email):\n",
    "    \"\"\"\n",
    "    Transform an email to plain text.\n",
    "    \n",
    "    :param email: the email content\n",
    "    :return: plain text corresponding to the email content\n",
    "    \"\"\"\n",
    "    for part in email.walk():\n",
    "        ctype = part.get_content_type()\n",
    "        # We only need content whose type is \"text/plain\" or \"text/html\"\n",
    "        if not ctype in (\"text/plain\",\"text/html\"):\n",
    "            continue\n",
    "            \n",
    "        try:\n",
    "            content = part.get_content()\n",
    "        except:\n",
    "            content = str(part.get_payload())\n",
    "        \n",
    "        if ctype == \"text/plain\":\n",
    "            return content\n",
    "        if ctype == \"text/html\":\n",
    "            return html_to_plain_text(content)"
   ],
   "id": "843cc9e18083fef",
   "outputs": [],
   "execution_count": 41
  },
  {
   "metadata": {
    "ExecuteTime": {
     "end_time": "2024-11-12T12:47:35.427210Z",
     "start_time": "2024-11-12T12:47:35.384949Z"
    }
   },
   "cell_type": "code",
   "source": [
    "import nltk\n",
    "import urlextract\n",
    "from sklearn.base import BaseEstimator, TransformerMixin\n",
    "from collections import Counter\n",
    "\n",
    "stemmer = nltk.PorterStemmer()\n",
    "url_extractor = urlextract.URLExtract()\n",
    "\n",
    "class EmailToWordCount(BaseEstimator, TransformerMixin):\n",
    "    def __init__(self, strip_headers = True, lower_case = True, remove_punctuation = True,\n",
    "        replace_urls = True, replace_numbers = True, stemming = True):\n",
    "        self.strip_headers = strip_headers\n",
    "        self.lower_case = lower_case\n",
    "        self.remove_punctuation = remove_punctuation\n",
    "        self.replace_urls = replace_urls\n",
    "        self.replace_numbers = replace_numbers\n",
    "        self.stemming = stemming\n",
    "        \n",
    "    def fit(self, X, y = None):\n",
    "        return self\n",
    "    \n",
    "    def transform(self, X, y = None):\n",
    "        x_transformed = []\n",
    "        for email in X:\n",
    "            text = email_to_text(email) or \"\"\n",
    "            if self.lower_case:\n",
    "                text = text.lower()\n",
    "            \n",
    "            if self.replace_urls and url_extractor is not None:\n",
    "                urls = list(set(url_extractor.find_urls(text)))\n",
    "                urls.sort(key = lambda url: len(url), reverse = True)\n",
    "                for url in urls:\n",
    "                    text = text.replace(url, \"URL\")\n",
    "            \n",
    "            if self.replace_numbers:\n",
    "                text = re.sub(r\"\\d+(?:\\.\\d*(?:[eE]\\d+))?\", \"NUMBER\", text)\n",
    "            \n",
    "            if self.remove_punctuation:\n",
    "                text = re.sub(r\"\\W+\", \" \", text, flags=re.M)\n",
    "            \n",
    "            word_counts = Counter(text.split())\n",
    "            if self.stemming and stemmer is not None:\n",
    "                stemmed_word_counts = Counter()\n",
    "                for word, count in word_counts.items():\n",
    "                    stemmed_word = stemmer.stem(word)\n",
    "                    stemmed_word_counts[stemmed_word] += count\n",
    "                word_counts = stemmed_word_counts\n",
    "            x_transformed.append(word_counts)\n",
    "            \n",
    "        return np.array(x_transformed)"
   ],
   "id": "28d6683a7b87fe73",
   "outputs": [],
   "execution_count": 42
  },
  {
   "metadata": {
    "ExecuteTime": {
     "end_time": "2024-11-12T12:47:39.656477Z",
     "start_time": "2024-11-12T12:47:39.644635Z"
    }
   },
   "cell_type": "code",
   "source": [
    "from scipy.sparse import csr_matrix\n",
    "\n",
    "class WordCounterToVector(BaseEstimator,TransformerMixin):\n",
    "    def __init__(self, vocabulary_size = 1000):\n",
    "        self._vocabulary = None\n",
    "        self._most_common = None\n",
    "        self.vocabulary_size = vocabulary_size\n",
    "        \n",
    "    def fit(self, X, y = None):\n",
    "        total_count = Counter()\n",
    "        \n",
    "        for word_count in X:\n",
    "            for word, count in word_count.items():\n",
    "                total_count[word] += min(count, 10)\n",
    "        \n",
    "        most_common = total_count.most_common()[:self.vocabulary_size]\n",
    "        self._most_common = most_common\n",
    "        self._vocabulary = {word: index + 1 for index, (word, count) in enumerate(most_common)}\n",
    "        \n",
    "        return self\n",
    "    \n",
    "    def transform(self, X, y = None):\n",
    "        rows = []\n",
    "        cols = []\n",
    "        data = []\n",
    "        for row, word_count in enumerate(X):\n",
    "            for word, count in word_count.items():\n",
    "                rows.append(row)\n",
    "                cols.append(self._vocabulary.get(word, 0))\n",
    "                data.append(count)\n",
    "                \n",
    "        return csr_matrix((data, (rows, cols)), shape = (len(X), self.vocabulary_size + 1))"
   ],
   "id": "8fa14b337ab57222",
   "outputs": [],
   "execution_count": 43
  },
  {
   "metadata": {
    "ExecuteTime": {
     "end_time": "2024-11-12T12:48:45.705992Z",
     "start_time": "2024-11-12T12:48:22.189533Z"
    }
   },
   "cell_type": "code",
   "source": [
    "from sklearn.pipeline import Pipeline\n",
    "\n",
    "preprocess_pipeline = Pipeline([\n",
    "    (\"email_to_wordcount\",EmailToWordCount()),\n",
    "    (\"wordcount_to_vector\",WordCounterToVector()),\n",
    "])\n",
    "\n",
    "X_train_transformed = preprocess_pipeline.fit_transform(x_train)"
   ],
   "id": "5d76ae3adb5a614d",
   "outputs": [
    {
     "name": "stdout",
     "output_type": "stream",
     "text": [
      "(2400, 1001)\n"
     ]
    }
   ],
   "execution_count": 45
  },
  {
   "metadata": {
    "ExecuteTime": {
     "end_time": "2024-11-12T12:48:55.434440Z",
     "start_time": "2024-11-12T12:48:54.938110Z"
    }
   },
   "cell_type": "code",
   "source": [
    "from sklearn.linear_model import LogisticRegression\n",
    "from sklearn.model_selection import cross_val_score\n",
    "\n",
    "log_clf = LogisticRegression(random_state = 42, max_iter = 5000)\n",
    "score = cross_val_score(log_clf, X_train_transformed, y_train, cv = 3, verbose = 3)\n",
    "score.mean()"
   ],
   "id": "cd5688202c8171d0",
   "outputs": [
    {
     "name": "stdout",
     "output_type": "stream",
     "text": [
      "[CV] END ................................ score: (test=0.976) total time=   0.0s\n",
      "[CV] END ................................ score: (test=0.988) total time=   0.1s\n",
      "[CV] END ................................ score: (test=0.988) total time=   0.1s\n"
     ]
    },
    {
     "data": {
      "text/plain": [
       "0.98375"
      ]
     },
     "execution_count": 46,
     "metadata": {},
     "output_type": "execute_result"
    }
   ],
   "execution_count": 46
  },
  {
   "metadata": {
    "ExecuteTime": {
     "end_time": "2024-11-12T12:49:04.810327Z",
     "start_time": "2024-11-12T12:48:59.055267Z"
    }
   },
   "cell_type": "code",
   "source": [
    "from sklearn.metrics import precision_score, recall_score\n",
    "\n",
    "X_test_transformed = preprocess_pipeline.transform(x_test)\n",
    "log_clf = LogisticRegression(random_state = 42, max_iter = 5000)\n",
    "log_clf.fit(X_train_transformed, y_train)\n",
    " \n",
    "y_pred = log_clf.predict(X_test_transformed)\n",
    " \n",
    "print(\"Precision: {:.2f}%\".format(100 * precision_score(y_test,y_pred)))\n",
    "print(\"Recall: {:.2f}%\".format(100 * recall_score(y_test,y_pred)))"
   ],
   "id": "ba6151f26931e6aa",
   "outputs": [
    {
     "name": "stdout",
     "output_type": "stream",
     "text": [
      "Precision: 99.01%\n",
      "Recall: 95.24%\n"
     ]
    }
   ],
   "execution_count": 47
  }
 ],
 "metadata": {
  "kernelspec": {
   "display_name": "Python 3",
   "language": "python",
   "name": "python3"
  },
  "language_info": {
   "codemirror_mode": {
    "name": "ipython",
    "version": 2
   },
   "file_extension": ".py",
   "mimetype": "text/x-python",
   "name": "python",
   "nbconvert_exporter": "python",
   "pygments_lexer": "ipython2",
   "version": "2.7.6"
  }
 },
 "nbformat": 4,
 "nbformat_minor": 5
}
